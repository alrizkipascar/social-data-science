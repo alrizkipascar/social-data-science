{
 "cells": [
  {
   "cell_type": "code",
   "execution_count": null,
   "id": "68e6305c",
   "metadata": {},
   "outputs": [],
   "source": [
    "from selenium import webdriver\n",
    "from selenium.webdriver.common.keys import Keys\n",
    "import time, urllib.request\n",
    "import requests\n"
   ]
  },
  {
   "cell_type": "code",
   "execution_count": null,
   "id": "ce8c3402",
   "metadata": {},
   "outputs": [],
   "source": [
    "PATH = r\"C:\\download\\chromedriver_win32\\chromedriver.exe\"\n",
    "driver = webdriver.Chrome(PATH)"
   ]
  },
  {
   "cell_type": "code",
   "execution_count": null,
   "id": "374fdbc6",
   "metadata": {},
   "outputs": [],
   "source": [
    "driver.get(\"https://www.instagram.com/\")"
   ]
  },
  {
   "cell_type": "code",
   "execution_count": null,
   "id": "4ca42c21",
   "metadata": {},
   "outputs": [],
   "source": [
    "#login\n",
    "time.sleep(5)\n",
    "username=driver.find_element_by_css_selector(\"input[name='username']\")\n",
    "password=driver.find_element_by_css_selector(\"input[name='password']\")\n",
    "username.clear()\n",
    "password.clear()\n",
    "username.send_keys(\"xxxxxx\")\n",
    "password.send_keys(\"123456\")\n",
    "login = driver.find_element_by_css_selector(\"button[type='submit']\").click()"
   ]
  },
  {
   "cell_type": "code",
   "execution_count": null,
   "id": "f0653c4f",
   "metadata": {},
   "outputs": [],
   "source": []
  }
 ],
 "metadata": {
  "kernelspec": {
   "display_name": "Python 3 (ipykernel)",
   "language": "python",
   "name": "python3"
  },
  "language_info": {
   "codemirror_mode": {
    "name": "ipython",
    "version": 3
   },
   "file_extension": ".py",
   "mimetype": "text/x-python",
   "name": "python",
   "nbconvert_exporter": "python",
   "pygments_lexer": "ipython3",
   "version": "3.10.0"
  }
 },
 "nbformat": 4,
 "nbformat_minor": 5
}
