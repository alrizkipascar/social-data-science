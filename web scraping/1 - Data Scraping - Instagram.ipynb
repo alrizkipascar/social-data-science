{
 "cells": [
  {
   "cell_type": "code",
   "execution_count": 8,
   "id": "68e6305c",
   "metadata": {},
   "outputs": [],
   "source": [
    "import pandas as pd\n",
    "from selenium import webdriver\n",
    "from selenium.webdriver.common.keys import Keys\n",
    "from selenium.webdriver.common.by import By\n",
    "import time, urllib.request\n",
    "import requests\n"
   ]
  },
  {
   "cell_type": "code",
   "execution_count": null,
   "id": "0eb20a5d",
   "metadata": {},
   "outputs": [],
   "source": [
    "username = []\n",
    "times = []\n",
    "comments = []\n",
    "likes = []\n",
    "LINK_POST = \"https://www.instagram.com/p/CtYn4zuPlk5/\""
   ]
  },
  {
   "cell_type": "code",
   "execution_count": 9,
   "id": "ce8c3402",
   "metadata": {},
   "outputs": [],
   "source": [
    "#C:\\Program Files\\Google\\Chrome\\Application\n",
    "#r\"C:\\download\\chromedriver_win32\\chromedriver.exe\"\n",
    "#PATH = r\"D:\\Program Files\\chrome\\chromedriver.exe\"\n",
    "driver = webdriver.Chrome()"
   ]
  },
  {
   "cell_type": "code",
   "execution_count": 28,
   "id": "50edccc4",
   "metadata": {},
   "outputs": [],
   "source": [
    "driver.get(\"https://www.instagram.com/\")"
   ]
  },
  {
   "cell_type": "markdown",
   "id": "fc0976c3",
   "metadata": {},
   "source": [
    "# Login session (automate the login and save login info)\n",
    "### Input tag for username, password, and submit button"
   ]
  },
  {
   "cell_type": "code",
   "execution_count": null,
   "id": "1ee6318a",
   "metadata": {},
   "outputs": [],
   "source": [
    "#<input aria-label=\"Phone number, username, or email\" aria-required=\"true\" autocapitalize=\"off\" autocorrect=\"off\" maxlength=\"75\" class=\"_aa4b _add6 _ac4d\" dir=\"\" type=\"text\" value=\"\" name=\"username\">"
   ]
  },
  {
   "cell_type": "code",
   "execution_count": null,
   "id": "dbcc680a",
   "metadata": {},
   "outputs": [],
   "source": [
    "#<input aria-label=\"Password\" aria-required=\"true\" autocapitalize=\"off\" autocorrect=\"off\" class=\"_aa4b _add6 _ac4d\" type=\"password\" value=\"\" name=\"password\">"
   ]
  },
  {
   "cell_type": "code",
   "execution_count": null,
   "id": "ea61e293",
   "metadata": {},
   "outputs": [],
   "source": [
    "#<button class=\"_acan _acap _acas _aj1-\" disabled=\"\" type=\"submit\"><div class=\"x9f619 xjbqb8w x78zum5 x168nmei x13lgxp2 x5pf9jr xo71vjh x1n2onr6 x1plvlek xryxfnj x1c4vz4f x2lah0s xdt5ytf xqjyukv x1qjc9v5 x1oa3qoh x1nhvcw1\">Log in</div></button>"
   ]
  },
  {
   "cell_type": "code",
   "execution_count": null,
   "id": "6a5962e3",
   "metadata": {},
   "outputs": [],
   "source": [
    "'''<form class=\"_ab3b\" id=\"loginForm\" method=\"post\"><div class=\"x9f619 xjbqb8w x78zum5 x168nmei x13lgxp2 x5pf9jr xo71vjh xqui205 x1n2onr6 x1plvlek xryxfnj x1c4vz4f x2lah0s xdt5ytf xqjyukv x1qjc9v5 x1oa3qoh x1nhvcw1\"><div class=\"_ab32\"><div class=\"x6s0dn4 xnz67gz x19gtwsn x1nk0tez x1xp9za0 x1hm1hlx x1npaq5j x1c83p5e x1enjb0b x199158v x13fuv20 xu3j5b3 x1q0q8m5 x26u7qi x178xt8z xm81vs4 xso031l xy80clv x9f619 x5n08af x78zum5 x1q0g3np xvs91rp x1n2onr6 xh8yej3\"><label class=\"_aa48 _aa49\"><span class=\"_aa4a\">Phone number, username, or email</span><input aria-label=\"Phone number, username, or email\" aria-required=\"true\" autocapitalize=\"off\" autocorrect=\"off\" maxlength=\"75\" class=\"_aa4b _add6 _ac4d\" dir=\"\" type=\"text\" value=\"alleincodealleincodealleincodealleincode\" name=\"username\" aria-describedby=\"slfErrorAlert\"></label><div class=\"x6s0dn4 x972fbf xcfux6l x1qhh985 xm0m39n x9f619 x78zum5 xdl72j9 x1q0g3np x1c4vz4f x2lah0s xk390pu x5yr21d xdj266r x11i5rnm xat24cr x1mh8g0r xexx8yu x1sxyh0 x18d9i69 xkhd6sd x1n2onr6 xxymvpz\"></div></div></div><div class=\"_ab32\"><div class=\"x6s0dn4 xnz67gz x19gtwsn x1nk0tez x1xp9za0 x1hm1hlx x1npaq5j x1c83p5e x1enjb0b x199158v x13fuv20 xu3j5b3 x1q0q8m5 x26u7qi x178xt8z xm81vs4 xso031l xy80clv x9f619 x5n08af x78zum5 x1q0g3np xvs91rp x1n2onr6 xh8yej3\"><label class=\"_aa48 _aa49\"><span class=\"_aa4a\">Password</span>\n",
    "<input aria-label=\"Password\" aria-required=\"true\" autocapitalize=\"off\" autocorrect=\"off\" class=\"_aa4b _add6 _ac4d\" type=\"text\" value=\"092118Alrizki092118Alrizki092118Alrizki092118Alrizki\" name=\"password\" dir=\"\" aria-describedby=\"slfErrorAlert\"></label><div class=\"x6s0dn4 x972fbf xcfux6l x1qhh985 xm0m39n x9f619 x78zum5 xdl72j9 x1q0g3np x1c4vz4f x2lah0s xk390pu x5yr21d xdj266r x11i5rnm xat24cr x1mh8g0r xexx8yu x1sxyh0 x18d9i69 xkhd6sd x1n2onr6 xxymvpz\"><div class=\"x9f619 xjbqb8w x78zum5 x168nmei x13lgxp2 x5pf9jr xo71vjh x1i64zmx x1n2onr6 x1plvlek xryxfnj x1c4vz4f x2lah0s xdt5ytf xqjyukv x1qjc9v5 x1oa3qoh x1nhvcw1\"><button class=\"_acan _acao _acat _aj1-\" type=\"button\">Hide</button></div></div></div></div><div class=\"x9f619 xjbqb8w x78zum5 x168nmei x13lgxp2 x5pf9jr xo71vjh x1xmf6yo x1e56ztr x540dpk x1m39q7l x1n2onr6 x1plvlek xryxfnj x1c4vz4f x2lah0s xdt5ytf xqjyukv x1qjc9v5 x1oa3qoh x1nhvcw1\"><button class=\"_acan _acap _acas _aj1-\" type=\"submit\"><div class=\"x9f619 xjbqb8w x78zum5 x168nmei x13lgxp2 x5pf9jr xo71vjh x1n2onr6 x1plvlek xryxfnj x1c4vz4f x2lah0s xdt5ytf xqjyukv x1qjc9v5 x1oa3qoh x1nhvcw1\">Log in</div></button></div><div class=\"_ab39\"><div class=\"x78zum5 x1q0g3np\"><div class=\"x1iyjqo2 xs83m0k xjm9jq1 x1n2onr6 xwtuau4 x11mr3az\"></div><div class=\"x1qjc9v5 x6umtig x1b1mbwd xaqea5y xav7gou x9f619 x1roi4f4 x78zum5 xdt5ytf x1c4vz4f x2lah0s x1nxh6w3 x1s688f x1ly1vsg xdj266r xpdqn1h xat24cr x1sliqq xexx8yu x4uap5 x18d9i69 xkhd6sd x1n2onr6 xtvhhri x11njtxf\">or</div><div class=\"x1iyjqo2 xs83m0k xjm9jq1 x1n2onr6 xwtuau4 x11mr3az\"></div></div></div><div class=\"x9f619 xjbqb8w x78zum5 x168nmei x13lgxp2 x5pf9jr xo71vjh x1xmf6yo x1e56ztr x540dpk x1m39q7l x1n2onr6 x1plvlek xryxfnj x1c4vz4f x2lah0s xdt5ytf xqjyukv x1qjc9v5 x1oa3qoh x1nhvcw1\">\n",
    "<button class=\"_acan _acao _acas _aj1-\" type=\"button\"><span class=\" _a04s _ab36\"></span>\n",
    "<span class=\"_ab37\">Log in with Facebook</span>\n",
    "</button>\n",
    "</div>\n",
    "</div>\n",
    "<div class=\"_ab2z\">\n",
    "<p aria-atomic=\"true\" id=\"slfErrorAlert\" role=\"alert\">Sorry, your password was incorrect. Please double-check your password.\n",
    "</p>\n",
    "</div>\n",
    "<a class=\"x1i10hfl xjbqb8w x6umtig x1b1mbwd xaqea5y xav7gou x9f619 x1ypdohk xt0psk2 xe8uvvx xdj266r x11i5rnm xat24cr x1mh8g0r xexx8yu x4uap5 x18d9i69 xkhd6sd x16tdsg8 x1hl2dhg xggy1nq x1a2a7pz _ab2y _a6hd\" href=\"/accounts/password/reset/\" role=\"link\" tabindex=\"0\">Forgot password?\n",
    "</a>\n",
    "</form>\n",
    "\n",
    "'''"
   ]
  },
  {
   "cell_type": "code",
   "execution_count": 29,
   "id": "4ca42c21",
   "metadata": {},
   "outputs": [],
   "source": [
    "#login\n",
    "time.sleep(5)\n",
    "username=driver.find_element(By.NAME, 'username')\n",
    "password=driver.find_element(By.NAME, 'password')\n",
    "#username=driver.find_element_by_css_selector(\"input[name='username']\")\n",
    "#password=driver.find_element_by_css_selector(\"input[name='password']\")\n",
    "\n"
   ]
  },
  {
   "cell_type": "code",
   "execution_count": 30,
   "id": "209450fc",
   "metadata": {},
   "outputs": [],
   "source": [
    "time.sleep(5)\n",
    "username.clear()\n",
    "password.clear()\n"
   ]
  },
  {
   "cell_type": "code",
   "execution_count": 31,
   "id": "3b6e0ad8",
   "metadata": {},
   "outputs": [],
   "source": [
    "#time.sleep(5)\n",
    "#login_form = driver.find_element(By.XPATH, \"//form[@id='loginForm']/div[1]/div[3]/button[1]\").click()\n",
    "#print(login_form)"
   ]
  },
  {
   "cell_type": "code",
   "execution_count": 32,
   "id": "f0653c4f",
   "metadata": {
    "scrolled": true
   },
   "outputs": [],
   "source": [
    "time.sleep(5)\n",
    "username.send_keys(\"username\")\n",
    "password.send_keys(\"password\")\n",
    "#login = driver.find_element_by_css_selector(\"button[type='submit']\").click()\n",
    "login = driver.find_element(By.XPATH, \"//form[@id='loginForm']/div[1]/div[3]/button[1]\").click()"
   ]
  },
  {
   "cell_type": "code",
   "execution_count": 27,
   "id": "f6a808ac",
   "metadata": {},
   "outputs": [],
   "source": [
    "#time.sleep(5)\n",
    "#username.clear()\n",
    "#password.clear()"
   ]
  },
  {
   "cell_type": "code",
   "execution_count": 35,
   "id": "dd921f15",
   "metadata": {},
   "outputs": [
    {
     "name": "stdout",
     "output_type": "stream",
     "text": [
      "<selenium.webdriver.remote.webelement.WebElement (session=\"a00596a9879009cd3e220a12cfaeb922\", element=\"F0D27D790DC08EEECA94B887B36ED11B_element_510\")>\n"
     ]
    }
   ],
   "source": [
    "#notnow = driver.find_element(By.XPATH, \"//div[@role='button']\")\n",
    "\n",
    "#print(notnow)"
   ]
  },
  {
   "cell_type": "code",
   "execution_count": 36,
   "id": "72f32d58",
   "metadata": {},
   "outputs": [],
   "source": [
    "#save your login info?\n",
    "time.sleep(10)\n",
    "notnow = driver.find_element(By.XPATH, \"//div[@role='button']\").click()\n"
   ]
  },
  {
   "cell_type": "code",
   "execution_count": 39,
   "id": "bd344e78",
   "metadata": {},
   "outputs": [
    {
     "name": "stdout",
     "output_type": "stream",
     "text": [
      "<selenium.webdriver.remote.webelement.WebElement (session=\"a00596a9879009cd3e220a12cfaeb922\", element=\"A9A49F5895E9410BFAFD786CD4B4C407_element_705\")>\n"
     ]
    }
   ],
   "source": [
    "time.sleep(5)\n",
    "notnow2 = driver.find_element(By.XPATH,\"//button[contains(text(), 'Not Now')]\")\n",
    "print(notnow2)"
   ]
  },
  {
   "cell_type": "code",
   "execution_count": 40,
   "id": "8dd6a73e",
   "metadata": {},
   "outputs": [],
   "source": [
    "#turn on notif\n",
    "time.sleep(5)\n",
    "notnow2 = driver.find_element(By.XPATH,\"//button[contains(text(), 'Not Now')]\").click()"
   ]
  },
  {
   "cell_type": "code",
   "execution_count": 44,
   "id": "35edb73b",
   "metadata": {},
   "outputs": [],
   "source": [
    "time.sleep(5)\n",
    "driver.get(LINK_POST)"
   ]
  },
  {
   "cell_type": "markdown",
   "id": "a367c934",
   "metadata": {},
   "source": [
    "### SCRAPING DATA POST"
   ]
  },
  {
   "cell_type": "code",
   "execution_count": 50,
   "id": "e1d91ec6",
   "metadata": {},
   "outputs": [],
   "source": [
    "from selenium.webdriver.common.action_chains import ActionChains\n",
    "from selenium.webdriver.common.keys import Keys"
   ]
  },
  {
   "cell_type": "markdown",
   "id": "6f5bd37f",
   "metadata": {},
   "source": [
    "## Comment section class\n",
    "\"x9f619.x78zum5.xdt5ytf.x5yr21d.xexx8yu.x1pi30zi.x1l90r2v.x1swvt13.x10l6tqk.xh8yej3\"\n",
    "x9f619 x78zum5 xdt5ytf x5yr21d xexx8yu x1pi30zi x1l90r2v x1swvt13 x10l6tqk xh8yej3\n",
    "\n",
    "\"x5yr21d.xw2csxc.x1odjw0f.x1n2onr6\"\n",
    "\n",
    "## all comment not scroll class \n",
    "\"x78zum5 xdt5ytf x1iyjqo2\""
   ]
  },
  {
   "cell_type": "code",
   "execution_count": 69,
   "id": "2cedcb9f",
   "metadata": {},
   "outputs": [
    {
     "name": "stdout",
     "output_type": "stream",
     "text": [
      "<selenium.webdriver.remote.webelement.WebElement (session=\"a00596a9879009cd3e220a12cfaeb922\", element=\"F19CFDAF8779A8BEA68E541EE65CF98D_element_1385\")>\n"
     ]
    }
   ],
   "source": [
    "# Comment section scrollable\n",
    "time.sleep(5)\n",
    "comment_section = driver.find_element(By.CLASS_NAME, \"x5yr21d.xw2csxc.x1odjw0f.x1n2onr6\")\n",
    "print(comment_section)"
   ]
  },
  {
   "cell_type": "code",
   "execution_count": 73,
   "id": "b3da8468",
   "metadata": {},
   "outputs": [
    {
     "name": "stdout",
     "output_type": "stream",
     "text": [
      "100\n",
      "300\n",
      "500\n",
      "700\n",
      "900\n",
      "1100\n",
      "1300\n",
      "1500\n",
      "1700\n",
      "1900\n",
      "2100\n",
      "2300\n",
      "2500\n",
      "2700\n",
      "2900\n",
      "3100\n",
      "3300\n",
      "3500\n",
      "3700\n",
      "3900\n",
      "4100\n",
      "4300\n",
      "4500\n",
      "4700\n",
      "4900\n",
      "5100\n",
      "5300\n",
      "5500\n",
      "5700\n",
      "5900\n",
      "6100\n",
      "6300\n",
      "6500\n",
      "6700\n",
      "6900\n",
      "7100\n",
      "7300\n",
      "7500\n",
      "7700\n",
      "7900\n",
      "8100\n",
      "8300\n",
      "8500\n",
      "8700\n",
      "8900\n",
      "9100\n",
      "9300\n",
      "9500\n",
      "9700\n",
      "9900\n"
     ]
    }
   ],
   "source": [
    "time.sleep(10)\n",
    "\n",
    "verical_ordinate = 100\n",
    "for i in range(0, 50):\n",
    "    print(verical_ordinate)\n",
    "    driver.execute_script(\"arguments[0].scrollTop = arguments[1]\", comment_section, verical_ordinate)\n",
    "    verical_ordinate += 200\n",
    "    time.sleep(2)\n",
    "#elem = driver.find_element(By.TAG_NAME, \"html\")\n",
    "#time.sleep(5)\n",
    "#comment_section.send_keys(Keys.END)\n",
    "#actions = ActionChains(driver)\n",
    "#actions.move_to_element(element).perform()"
   ]
  },
  {
   "cell_type": "code",
   "execution_count": 93,
   "id": "a0654700",
   "metadata": {},
   "outputs": [
    {
     "name": "stdout",
     "output_type": "stream",
     "text": [
      "20\n"
     ]
    }
   ],
   "source": [
    "# all comment <div> elements\n",
    "time.sleep(5)\n",
    "all_comment = driver.find_elements(By.CLASS_NAME, \"x78zum5.xdt5ytf.x1iyjqo2\")\n",
    "print(len(all_comment))"
   ]
  },
  {
   "cell_type": "code",
   "execution_count": 94,
   "id": "893b5093",
   "metadata": {},
   "outputs": [
    {
     "name": "stdout",
     "output_type": "stream",
     "text": [
      "playapex\n",
      "•\n",
      "Follow\n",
      "Original audio\n",
      "playapex\n",
      " 2d\n",
      "Night Cat Vantage is ready to hit the streets and take down anyone in her way 🦇\n",
      "\n",
      "Get this skin during the Neon Network Collection event, starting July 25.\n",
      "armored.catto\n",
      " 2d\n",
      "Gotta be the laziest most uncreative skin I have ever seen\n",
      "635 likes\n",
      "Reply\n",
      "View all 15 replies\n",
      "zzz___zzz_o\n",
      " 2d\n",
      "My girl always getting the most bogus looking shit 😩😞 can ya get it right man. Who ever is working on this character needs to go on vacation\n",
      "251 likes\n",
      "Reply\n",
      "View all 14 replies\n",
      "empyrean_fang\n",
      " 2d\n",
      "why does every vantage skin have to be super bright and easy to see. some bullshit man\n",
      "341 likes\n",
      "Reply\n",
      "View all 12 replies\n",
      "that_fli_kidd_tv\n",
      " 2d\n",
      "Stop making gun skins for guns NO ONE USES 🤌🏽🤌🏽\n",
      "44 likes\n",
      "Reply\n",
      "View all 11 replies\n",
      "hitesh_burada\n",
      " 2d\n",
      "does anyone even main vantage? 💀 i’ve barely even seen them this season\n",
      "61 likes\n",
      "Reply\n",
      "View all 18 replies\n",
      "mejia_harry\n",
      " 2d\n",
      "You guys hate vantage or something 😂\n",
      "148 likes\n",
      "Reply\n",
      "View all 7 replies\n",
      "plutocartier\n",
      " 2d\n",
      "I love this Catage\n",
      "3 likes\n",
      "Reply\n",
      "chilischancellor\n",
      " 2d\n",
      "vantage mains rise ‼️\n",
      "1 like\n",
      "Reply\n",
      "_savage_viper_\n",
      " 2d\n",
      "Why are people hating bruh? The skin looks amazing!!!\n",
      "29 likes\n",
      "Reply\n",
      "View all 6 replies\n",
      "matteo90fi\n",
      " 2d\n",
      "No Cross Progression, No More Money Shop.\n",
      "3 likes\n",
      "Reply\n",
      "charlixmonje\n",
      " 2d\n",
      "Why they doing her dirty like that Lmaooo 😭😭😭😂\n",
      "51 likes\n",
      "Reply\n",
      "_ya_boi_sweetheart_\n",
      " 2d\n",
      "Bruh you can’t even make her look good she’s all just cringe\n",
      "116 likes\n",
      "Reply\n",
      "einsamepuppe\n",
      " 2d\n",
      "STOP SHES SO CUTE\n",
      "1 like\n",
      "Reply\n",
      "erd.byte\n",
      " 2d\n",
      "I thought she was Watson at first. Almost got excited…\n",
      "3 likes\n",
      "Reply\n",
      "chasing.ghxsts\n",
      " 2d\n",
      "Is it so hard to give her a cool face mask instead of these goofy skins for her? I mean just give her one of these laughing masks or some stuff thanks :)\n",
      "2 likes\n",
      "Reply\n",
      "47,655 likes\n",
      "2 DAYS AGO\n",
      "More posts from playapex\n",
      "Meta\n",
      "About\n",
      "Blog\n",
      "Jobs\n",
      "Help\n",
      "API\n",
      "Privacy\n",
      "Terms\n",
      "Top Accounts\n",
      "Locations\n",
      "Instagram Lite\n",
      "Threads\n",
      "Contact Uploading & Non-Users\n",
      "Meta Verified\n",
      "English\n",
      "Afrikaans\n",
      "Čeština\n",
      "Dansk\n",
      "Deutsch\n",
      "Ελληνικά\n",
      "English\n",
      "English (UK)\n",
      "Español (España)\n",
      "Español\n",
      "Suomi\n",
      "Français\n",
      "Bahasa Indonesia\n",
      "Italiano\n",
      "日本語\n",
      "한국어\n",
      "Bahasa Melayu\n",
      "Norsk\n",
      "Nederlands\n",
      "Polski\n",
      "Português (Brasil)\n",
      "Português (Portugal)\n",
      "Русский\n",
      "Svenska\n",
      "ภาษาไทย\n",
      "Filipino\n",
      "Türkçe\n",
      "中文(简体)\n",
      "中文(台灣)\n",
      "বাংলা\n",
      "ગુજરાતી\n",
      "हिन्दी\n",
      "Hrvatski\n",
      "Magyar\n",
      "ಕನ್ನಡ\n",
      "മലയാളം\n",
      "मराठी\n",
      "नेपाली\n",
      "ਪੰਜਾਬੀ\n",
      "සිංහල\n",
      "Slovenčina\n",
      "தமிழ்\n",
      "తెలుగు\n",
      "Tiếng Việt\n",
      "中文(香港)\n",
      "Български\n",
      "Français (Canada)\n",
      "Română\n",
      "Српски\n",
      "Українська\n",
      "© 2023 Instagram from Meta\n",
      "playapex\n",
      "•\n",
      "Follow\n",
      "Original audio\n",
      "playapex\n",
      " 2d\n",
      "Night Cat Vantage is ready to hit the streets and take down anyone in her way 🦇\n",
      "\n",
      "Get this skin during the Neon Network Collection event, starting July 25.\n",
      "armored.catto\n",
      " 2d\n",
      "Gotta be the laziest most uncreative skin I have ever seen\n",
      "635 likes\n",
      "Reply\n",
      "View all 15 replies\n",
      "zzz___zzz_o\n",
      " 2d\n",
      "My girl always getting the most bogus looking shit 😩😞 can ya get it right man. Who ever is working on this character needs to go on vacation\n",
      "251 likes\n",
      "Reply\n",
      "View all 14 replies\n",
      "empyrean_fang\n",
      " 2d\n",
      "why does every vantage skin have to be super bright and easy to see. some bullshit man\n",
      "341 likes\n",
      "Reply\n",
      "View all 12 replies\n",
      "that_fli_kidd_tv\n",
      " 2d\n",
      "Stop making gun skins for guns NO ONE USES 🤌🏽🤌🏽\n",
      "44 likes\n",
      "Reply\n",
      "View all 11 replies\n",
      "hitesh_burada\n",
      " 2d\n",
      "does anyone even main vantage? 💀 i’ve barely even seen them this season\n",
      "61 likes\n",
      "Reply\n",
      "View all 18 replies\n",
      "mejia_harry\n",
      " 2d\n",
      "You guys hate vantage or something 😂\n",
      "148 likes\n",
      "Reply\n",
      "View all 7 replies\n",
      "plutocartier\n",
      " 2d\n",
      "I love this Catage\n",
      "3 likes\n",
      "Reply\n",
      "chilischancellor\n",
      " 2d\n",
      "vantage mains rise ‼️\n",
      "1 like\n",
      "Reply\n",
      "_savage_viper_\n",
      " 2d\n",
      "Why are people hating bruh? The skin looks amazing!!!\n",
      "29 likes\n",
      "Reply\n",
      "View all 6 replies\n",
      "matteo90fi\n",
      " 2d\n",
      "No Cross Progression, No More Money Shop.\n",
      "3 likes\n",
      "Reply\n",
      "charlixmonje\n",
      " 2d\n",
      "Why they doing her dirty like that Lmaooo 😭😭😭😂\n",
      "51 likes\n",
      "Reply\n",
      "_ya_boi_sweetheart_\n",
      " 2d\n",
      "Bruh you can’t even make her look good she’s all just cringe\n",
      "116 likes\n",
      "Reply\n",
      "einsamepuppe\n",
      " 2d\n",
      "STOP SHES SO CUTE\n",
      "1 like\n",
      "Reply\n",
      "erd.byte\n",
      " 2d\n",
      "I thought she was Watson at first. Almost got excited…\n",
      "3 likes\n",
      "Reply\n",
      "chasing.ghxsts\n",
      " 2d\n",
      "Is it so hard to give her a cool face mask instead of these goofy skins for her? I mean just give her one of these laughing masks or some stuff thanks :)\n",
      "2 likes\n",
      "Reply\n",
      "47,655 likes\n",
      "2 DAYS AGO\n",
      "More posts from playapex\n",
      "playapex\n",
      " 2d\n",
      "Night Cat Vantage is ready to hit the streets and take down anyone in her way 🦇\n",
      "\n",
      "Get this skin during the Neon Network Collection event, starting July 25.\n",
      "armored.catto\n",
      " 2d\n",
      "Gotta be the laziest most uncreative skin I have ever seen\n",
      "635 likes\n",
      "Reply\n",
      "View all 15 replies\n",
      "zzz___zzz_o\n",
      " 2d\n",
      "My girl always getting the most bogus looking shit 😩😞 can ya get it right man. Who ever is working on this character needs to go on vacation\n",
      "251 likes\n",
      "Reply\n",
      "View all 14 replies\n",
      "empyrean_fang\n",
      " 2d\n",
      "why does every vantage skin have to be super bright and easy to see. some bullshit man\n",
      "341 likes\n",
      "Reply\n",
      "View all 12 replies\n",
      "that_fli_kidd_tv\n",
      " 2d\n",
      "Stop making gun skins for guns NO ONE USES 🤌🏽🤌🏽\n",
      "44 likes\n",
      "Reply\n",
      "View all 11 replies\n",
      "hitesh_burada\n",
      " 2d\n",
      "does anyone even main vantage? 💀 i’ve barely even seen them this season\n",
      "61 likes\n",
      "Reply\n",
      "View all 18 replies\n",
      "mejia_harry\n",
      " 2d\n",
      "You guys hate vantage or something 😂\n",
      "148 likes\n",
      "Reply\n",
      "View all 7 replies\n",
      "plutocartier\n",
      " 2d\n",
      "I love this Catage\n",
      "3 likes\n",
      "Reply\n",
      "chilischancellor\n",
      " 2d\n",
      "vantage mains rise ‼️\n",
      "1 like\n",
      "Reply\n",
      "_savage_viper_\n",
      " 2d\n",
      "Why are people hating bruh? The skin looks amazing!!!\n",
      "29 likes\n",
      "Reply\n",
      "View all 6 replies\n",
      "matteo90fi\n",
      " 2d\n",
      "No Cross Progression, No More Money Shop.\n",
      "3 likes\n",
      "Reply\n",
      "charlixmonje\n",
      " 2d\n",
      "Why they doing her dirty like that Lmaooo 😭😭😭😂\n",
      "51 likes\n",
      "Reply\n",
      "_ya_boi_sweetheart_\n",
      " 2d\n",
      "Bruh you can’t even make her look good she’s all just cringe\n",
      "116 likes\n",
      "Reply\n",
      "einsamepuppe\n",
      " 2d\n",
      "STOP SHES SO CUTE\n",
      "1 like\n",
      "Reply\n",
      "erd.byte\n",
      " 2d\n",
      "I thought she was Watson at first. Almost got excited…\n",
      "3 likes\n",
      "Reply\n",
      "chasing.ghxsts\n",
      " 2d\n",
      "Is it so hard to give her a cool face mask instead of these goofy skins for her? I mean just give her one of these laughing masks or some stuff thanks :)\n",
      "2 likes\n",
      "Reply\n",
      "playapex\n",
      " 2d\n",
      "Night Cat Vantage is ready to hit the streets and take down anyone in her way 🦇\n",
      "\n",
      "Get this skin during the Neon Network Collection event, starting July 25.\n",
      "armored.catto\n",
      " 2d\n",
      "Gotta be the laziest most uncreative skin I have ever seen\n",
      "635 likes\n",
      "Reply\n",
      "zzz___zzz_o\n",
      " 2d\n",
      "My girl always getting the most bogus looking shit 😩😞 can ya get it right man. Who ever is working on this character needs to go on vacation\n",
      "251 likes\n",
      "Reply\n",
      "empyrean_fang\n",
      " 2d\n",
      "why does every vantage skin have to be super bright and easy to see. some bullshit man\n",
      "341 likes\n",
      "Reply\n",
      "that_fli_kidd_tv\n",
      " 2d\n",
      "Stop making gun skins for guns NO ONE USES 🤌🏽🤌🏽\n",
      "44 likes\n",
      "Reply\n",
      "hitesh_burada\n",
      " 2d\n",
      "does anyone even main vantage? 💀 i’ve barely even seen them this season\n",
      "61 likes\n",
      "Reply\n",
      "mejia_harry\n",
      " 2d\n",
      "You guys hate vantage or something 😂\n",
      "148 likes\n",
      "Reply\n",
      "plutocartier\n",
      " 2d\n",
      "I love this Catage\n",
      "3 likes\n",
      "Reply\n",
      "chilischancellor\n",
      " 2d\n",
      "vantage mains rise ‼️\n",
      "1 like\n",
      "Reply\n",
      "_savage_viper_\n",
      " 2d\n",
      "Why are people hating bruh? The skin looks amazing!!!\n",
      "29 likes\n",
      "Reply\n",
      "matteo90fi\n",
      " 2d\n",
      "No Cross Progression, No More Money Shop.\n",
      "3 likes\n",
      "Reply\n",
      "charlixmonje\n",
      " 2d\n",
      "Why they doing her dirty like that Lmaooo 😭😭😭😂\n",
      "51 likes\n",
      "Reply\n",
      "_ya_boi_sweetheart_\n",
      " 2d\n",
      "Bruh you can’t even make her look good she’s all just cringe\n",
      "116 likes\n",
      "Reply\n",
      "einsamepuppe\n",
      " 2d\n",
      "STOP SHES SO CUTE\n",
      "1 like\n",
      "Reply\n",
      "erd.byte\n",
      " 2d\n",
      "I thought she was Watson at first. Almost got excited…\n",
      "3 likes\n",
      "Reply\n",
      "chasing.ghxsts\n",
      " 2d\n",
      "Is it so hard to give her a cool face mask instead of these goofy skins for her? I mean just give her one of these laughing masks or some stuff thanks :)\n",
      "2 likes\n",
      "Reply\n",
      "47,655 likes\n"
     ]
    }
   ],
   "source": [
    "for i in range(0, len(all_comment)):\n",
    "    print(all_comment[i].text)\n"
   ]
  },
  {
   "cell_type": "markdown",
   "id": "d0d48f34",
   "metadata": {},
   "source": [
    "### USERNAME class\n",
    "\"x1i10hfl.xjbqb8w.x6umtig.x1b1mbwd.xaqea5y.xav7gou.x9f619.x1ypdohk.xt0psk2.xe8uvvx.xdj266r.x11i5rnm.xat24cr.x1mh8g0r.xexx8yu.x4uap5.x18d9i69.xkhd6sd.x16tdsg8.x1hl2dhg.xggy1nq.x1a2a7pz.notranslate._a6hd\"\n",
    "\n",
    "<span>\n",
    "\"x9f619.xjbqb8w.x1rg5ohu.x168nmei.x13lgxp2.x5pf9jr.xo71vjh.x1n2onr6.x1plvlek.xryxfnj.x1c4vz4f.x2lah0s.x1q0g3np.xqjyukv.x6s0dn4.x1oa3qoh.x1nhvcw1\"\n",
    "\n",
    "x1i10hfl xjbqb8w x6umtig x1b1mbwd xaqea5y xav7gou x9f619 x1ypdohk xt0psk2 xe8uvvx xdj266r x11i5rnm xat24cr x1mh8g0r xexx8yu x4uap5 x18d9i69 xkhd6sd x16tdsg8 x1hl2dhg xggy1nq x1a2a7pz notranslate _a6hd\n",
    "### Time class\n",
    "\"x76ihet.xwmqs3e.x112ta8.xxxdfa6.x1roi4f4.xexx8yu.x4uap5.x18d9i69.xkhd6sd.x1n2onr6\"\n",
    "\n",
    "### Comment class\n",
    "\"x1lliihq.x1plvlek.xryxfnj.x1n2onr6.x193iq5w.xeuugli.x1fj9vlw.x13faqbe.x1vvkbs.x1s928wv.xhkezso.x1gmr53x.x1cpjm7i.x1fgarty.x1943h6x.x1i0vuye.xvs91rp.xo1l8bm.x5n08af.x10wh9bi.x1wdrske.x8viiok.x18hxmgj\"\n",
    "\n",
    "x1lliihq x1plvlek xryxfnj x1n2onr6 x193iq5w xeuugli x1fj9vlw x13faqbe x1vvkbs x1s928wv xhkezso x1gmr53x x1cpjm7i x1fgarty x1943h6x x1i0vuye xvs91rp xo1l8bm x5n08af x10wh9bi x1wdrske x8viiok x18hxmgj\n",
    "\n",
    "### love/like class\n",
    "\"x1lliihq.x1plvlek.xryxfnj.x1n2onr6.x193iq5w.xeuugli.x1fj9vlw.x13faqbe.x1vvkbs.x1s928wv.xhkezso.x1gmr53x.x1cpjm7i.x1fgarty.x1943h6x.x1i0vuye.x1fhwpqd.x1s688f.x1roi4f4.x1s3etm8.x676frb.x10wh9bi.x1wdrske.x8viiok.x18hxmgj\""
   ]
  },
  {
   "cell_type": "code",
   "execution_count": 95,
   "id": "2320d04e",
   "metadata": {},
   "outputs": [
    {
     "name": "stdout",
     "output_type": "stream",
     "text": [
      "16\n"
     ]
    }
   ],
   "source": [
    "#Load username\n",
    "time.sleep(5)\n",
    "load_username = driver.find_elements(By.CLASS_NAME, \"x9f619.xjbqb8w.x1rg5ohu.x168nmei.x13lgxp2.x5pf9jr.xo71vjh.x1n2onr6.x1plvlek.xryxfnj.x1c4vz4f.x2lah0s.x1q0g3np.xqjyukv.x6s0dn4.x1oa3qoh.x1nhvcw1\")\n",
    "print(len(load_username))"
   ]
  },
  {
   "cell_type": "code",
   "execution_count": 96,
   "id": "0147c389",
   "metadata": {},
   "outputs": [
    {
     "name": "stdout",
     "output_type": "stream",
     "text": [
      "15\n"
     ]
    }
   ],
   "source": [
    "#Load time\n",
    "time.sleep(5)\n",
    "load_time = driver.find_elements(By.CLASS_NAME, \"x76ihet.xwmqs3e.x112ta8.xxxdfa6.x1roi4f4.xexx8yu.x4uap5.x18d9i69.xkhd6sd.x1n2onr6\")\n",
    "print(len(load_time))"
   ]
  },
  {
   "cell_type": "code",
   "execution_count": 97,
   "id": "f89a8e3a",
   "metadata": {},
   "outputs": [
    {
     "name": "stdout",
     "output_type": "stream",
     "text": [
      "33\n"
     ]
    }
   ],
   "source": [
    "#Load comment\n",
    "time.sleep(5)\n",
    "load_comment = driver.find_elements(By.CLASS_NAME, \"x1lliihq.x1plvlek.xryxfnj.x1n2onr6.x193iq5w.xeuugli.x1fj9vlw.x13faqbe.x1vvkbs.x1s928wv.xhkezso.x1gmr53x.x1cpjm7i.x1fgarty.x1943h6x.x1i0vuye.xvs91rp.xo1l8bm.x5n08af.x10wh9bi.x1wdrske.x8viiok.x18hxmgj\")\n",
    "print(len(load_comment))"
   ]
  },
  {
   "cell_type": "code",
   "execution_count": 115,
   "id": "1ff56e5a",
   "metadata": {},
   "outputs": [
    {
     "name": "stdout",
     "output_type": "stream",
     "text": [
      "15\n"
     ]
    }
   ],
   "source": [
    "#Load comment\n",
    "time.sleep(5)\n",
    "load_comment = driver.find_elements(By.XPATH, \"//div[@class='x9f619 xjbqb8w x78zum5 x168nmei x13lgxp2 x5pf9jr xo71vjh x1uhb9sk x1plvlek xryxfnj x1c4vz4f x2lah0s xdt5ytf xqjyukv x1cy8zhl x1oa3qoh x1nhvcw1']\")\n",
    "print(len(test))"
   ]
  },
  {
   "cell_type": "code",
   "execution_count": 120,
   "id": "f22d99aa",
   "metadata": {},
   "outputs": [
    {
     "name": "stdout",
     "output_type": "stream",
     "text": [
      "30\n"
     ]
    }
   ],
   "source": [
    "#Load comment\n",
    "time.sleep(5)\n",
    "load_like = driver.find_elements(By.XPATH, \"//div[@class='x1i10hfl xjbqb8w x6umtig x1b1mbwd xaqea5y xav7gou x9f619 x1ypdohk xt0psk2 xe8uvvx xdj266r xat24cr x1mh8g0r xexx8yu x4uap5 x18d9i69 xkhd6sd x16tdsg8 x1hl2dhg xggy1nq x1a2a7pz xq8finb x87ps6o x1d5wrs8']\")\n",
    "print(len(load_like))"
   ]
  },
  {
   "cell_type": "code",
   "execution_count": 91,
   "id": "76e202ab",
   "metadata": {},
   "outputs": [
    {
     "name": "stdout",
     "output_type": "stream",
     "text": [
      "playapex\n",
      "armored.catto\n",
      "empyrean_fang\n",
      "hitesh_burada\n",
      "that_fli_kidd_tv\n",
      "zzz___zzz_o\n",
      "mejia_harry\n",
      "plutocartier\n",
      "v.skiittlez\n",
      "_ya_boi_sweetheart_\n",
      "oneluvalpha\n",
      "andeet12\n",
      "sheloveskeegan\n",
      "hanspeterdietiker\n",
      "liljellyshark\n",
      "zq.x\n",
      "_savage_viper_\n",
      "demonia_noir_ix\n",
      "matteo90fi\n",
      "chilischancellor\n",
      "m.aaarcus\n",
      "sojusuperboy\n",
      "l7_l7_l7_l7_l7_l7_l7_l7_l7_l7\n",
      "chasing.ghxsts\n",
      "charlixmonje\n",
      "einsamepuppe\n",
      "erd.byte\n",
      "ansh.rocks\n",
      "_niggasareweird_\n",
      "bradyeaton04\n",
      "enzoevidente\n",
      "shak2697\n",
      "g_antunes21\n",
      "stalsultan\n",
      "amazesinner\n",
      "popcorn_funk\n",
      "lee.sedi\n",
      "kb.aaj\n",
      "icwrl\n",
      "newtatl\n",
      "adaptivative\n",
      "rachael_420\n",
      "_unreal.21_\n",
      "spoon.wav\n",
      "joyboy10000\n",
      "officialapexworld\n",
      "jadenbanfield30\n",
      "kole_munson_\n",
      "the_real_temporalwater89_\n",
      "illieavee\n",
      "brutalboy_d\n",
      "emartinees\n",
      "guille_dfernandez\n",
      "lixorer\n",
      "0live.f\n",
      "matj1024\n",
      "vxnomousstv\n",
      "milesgeebee\n",
      "reapsirs\n",
      "pseuderity\n",
      "crxxssss\n",
      "robby_stud\n",
      "eewarap_\n",
      "r.owan.w\n",
      "fk29558888888\n",
      "rabbitmadz\n",
      "esepepzy\n",
      "jadenbanfield30\n",
      "mylertunday\n",
      "_oz88\n",
      "tyler.s.diemer\n",
      "adonisj_711\n"
     ]
    }
   ],
   "source": [
    "for i in range(0, len(load_username)):\n",
    "    print(load_username[i].text)\n",
    "    username.append(load_username[i].text)"
   ]
  },
  {
   "cell_type": "code",
   "execution_count": 116,
   "id": "ecf8d834",
   "metadata": {
    "scrolled": false
   },
   "outputs": [
    {
     "name": "stdout",
     "output_type": "stream",
     "text": [
      "Gotta be the laziest most uncreative skin I have ever seen\n",
      "My girl always getting the most bogus looking shit 😩😞 can ya get it right man. Who ever is working on this character needs to go on vacation\n",
      "why does every vantage skin have to be super bright and easy to see. some bullshit man\n",
      "Stop making gun skins for guns NO ONE USES 🤌🏽🤌🏽\n",
      "does anyone even main vantage? 💀 i’ve barely even seen them this season\n",
      "You guys hate vantage or something 😂\n",
      "I love this Catage\n",
      "vantage mains rise ‼️\n",
      "Why are people hating bruh? The skin looks amazing!!!\n",
      "No Cross Progression, No More Money Shop.\n",
      "Why they doing her dirty like that Lmaooo 😭😭😭😂\n",
      "Bruh you can’t even make her look good she’s all just cringe\n",
      "STOP SHES SO CUTE\n",
      "I thought she was Watson at first. Almost got excited…\n",
      "Is it so hard to give her a cool face mask instead of these goofy skins for her? I mean just give her one of these laughing masks or some stuff thanks :)\n"
     ]
    }
   ],
   "source": [
    "#.get_attribute(\"datetime\")\n",
    "for i in range(0, len(load_comment)):\n",
    "    print(load_comment[i].text)\n",
    "    comments.append(load_comment[i].text)"
   ]
  },
  {
   "cell_type": "code",
   "execution_count": 114,
   "id": "9c24f9eb",
   "metadata": {},
   "outputs": [
    {
     "name": "stdout",
     "output_type": "stream",
     "text": [
      "2023-07-22T17:23:57.000Z\n",
      "2023-07-22T17:31:04.000Z\n",
      "2023-07-22T17:26:44.000Z\n",
      "2023-07-22T17:34:53.000Z\n",
      "2023-07-22T17:23:50.000Z\n",
      "2023-07-22T17:38:36.000Z\n",
      "2023-07-22T19:47:54.000Z\n",
      "2023-07-22T18:32:28.000Z\n",
      "2023-07-22T17:39:45.000Z\n",
      "2023-07-22T22:15:38.000Z\n",
      "2023-07-22T17:27:26.000Z\n",
      "2023-07-22T17:40:13.000Z\n",
      "2023-07-22T17:24:25.000Z\n",
      "2023-07-22T17:26:31.000Z\n",
      "2023-07-22T17:45:48.000Z\n"
     ]
    }
   ],
   "source": [
    "#.get_attribute(\"datetime\")\n",
    "for i in range(0, len(load_time)):\n",
    "    print(load_time[i].get_attribute(\"datetime\"))\n",
    "    times.append(load_time[i].text)"
   ]
  },
  {
   "cell_type": "code",
   "execution_count": 124,
   "id": "c8f12447",
   "metadata": {},
   "outputs": [
    {
     "name": "stdout",
     "output_type": "stream",
     "text": [
      "635 likes\n",
      "251 likes\n",
      "341 likes\n",
      "44 likes\n",
      "61 likes\n",
      "148 likes\n",
      "3 likes\n",
      "1 like\n",
      "29 likes\n",
      "3 likes\n",
      "51 likes\n",
      "116 likes\n",
      "1 like\n",
      "3 likes\n",
      "2 likes\n"
     ]
    }
   ],
   "source": [
    "for i in range(0, len(load_like)):\n",
    "    if(load_like[i].text == \"Reply\"):\n",
    "        load_like[i]\n",
    "        continue\n",
    "    print(load_like[i].text)\n",
    "    likes.append(load_like[i].text)"
   ]
  },
  {
   "cell_type": "code",
   "execution_count": null,
   "id": "c4f98989",
   "metadata": {},
   "outputs": [],
   "source": [
    "data = {\"username\":username, \"comments\": comment, \"likes\":likes, \"times\": times}"
   ]
  },
  {
   "cell_type": "code",
   "execution_count": null,
   "id": "f08d8895",
   "metadata": {},
   "outputs": [],
   "source": [
    "df = pd.DataFrame(data)\n",
    "\n",
    "df.to_csv('Instagram-post.csv', index=False)\n",
    "\n",
    "df.to_excel('Instagram-post.excel', index=False)"
   ]
  },
  {
   "cell_type": "code",
   "execution_count": 129,
   "id": "6fc1ba6b",
   "metadata": {},
   "outputs": [
    {
     "name": "stdout",
     "output_type": "stream",
     "text": [
      "None\n"
     ]
    }
   ],
   "source": [
    "time.sleep(5)\n",
    "more = driver.find_element(By.XPATH, \"//div[@class='xl5mz7h xhuyl8g']\").click()\n",
    "print(more)\n"
   ]
  },
  {
   "cell_type": "code",
   "execution_count": 133,
   "id": "96011a07",
   "metadata": {},
   "outputs": [
    {
     "name": "stdout",
     "output_type": "stream",
     "text": [
      "None\n"
     ]
    }
   ],
   "source": [
    "time.sleep(3)\n",
    "logout = driver.find_element(By.XPATH,\"//span[contains(text(), 'Log out')]\").click()\n",
    "print(logout)"
   ]
  }
 ],
 "metadata": {
  "kernelspec": {
   "display_name": "Python 3 (ipykernel)",
   "language": "python",
   "name": "python3"
  },
  "language_info": {
   "codemirror_mode": {
    "name": "ipython",
    "version": 3
   },
   "file_extension": ".py",
   "mimetype": "text/x-python",
   "name": "python",
   "nbconvert_exporter": "python",
   "pygments_lexer": "ipython3",
   "version": "3.10.0"
  }
 },
 "nbformat": 4,
 "nbformat_minor": 5
}
