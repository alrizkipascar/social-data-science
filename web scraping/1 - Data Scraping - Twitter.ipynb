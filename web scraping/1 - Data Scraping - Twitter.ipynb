{
 "cells": [
  {
   "cell_type": "code",
   "execution_count": 1,
   "id": "da52c31c",
   "metadata": {},
   "outputs": [],
   "source": [
    "import pandas as pd\n",
    "from selenium import webdriver\n",
    "from selenium.webdriver.common.keys import Keys\n",
    "from selenium.webdriver.common.by import By\n",
    "import time, urllib.request\n",
    "import requests\n",
    "from selenium.webdriver.common.action_chains import ActionChains\n",
    "from selenium.webdriver.common.keys import Keys"
   ]
  },
  {
   "cell_type": "code",
   "execution_count": 2,
   "id": "2d9a117f",
   "metadata": {},
   "outputs": [],
   "source": [
    "username = []\n",
    "times = []\n",
    "comments = []\n",
    "likes = []\n",
    "retweets = []\n",
    "LINK_TWITTER = \"https://www.twitter.com\"\n",
    "LINK_POST = \"https://twitter.com/PlayApex/status/1682815516853796867\""
   ]
  },
  {
   "cell_type": "code",
   "execution_count": 3,
   "id": "bff2cdd9",
   "metadata": {},
   "outputs": [
    {
     "name": "stderr",
     "output_type": "stream",
     "text": [
      "Error getting version of chromedriver 115. Retrying with chromedriver 114 (attempt 1/5)\n"
     ]
    }
   ],
   "source": [
    "driver = webdriver.Chrome()"
   ]
  },
  {
   "cell_type": "code",
   "execution_count": 4,
   "id": "78339692",
   "metadata": {},
   "outputs": [],
   "source": [
    "time.sleep(5)\n",
    "driver.get(LINK_TWITTER)"
   ]
  },
  {
   "cell_type": "markdown",
   "id": "b9bc0ba7",
   "metadata": {},
   "source": [
    "## Login Session\n",
    "\n",
    "1. Find and click sign in button\n",
    "2. Find and input username element\n",
    "3. Find and click next button\n",
    "4. Find and input password element\n",
    "5. Find and click login button"
   ]
  },
  {
   "cell_type": "code",
   "execution_count": 7,
   "id": "3f8c476e",
   "metadata": {},
   "outputs": [],
   "source": [
    "time.sleep(5)\n",
    "signin =  driver.find_element(By.XPATH, \"//a[@data-testid='loginButton']\").click()"
   ]
  },
  {
   "cell_type": "code",
   "execution_count": 11,
   "id": "d5323d13",
   "metadata": {},
   "outputs": [],
   "source": [
    "time.sleep(5)\n",
    "username = driver.find_element(By.XPATH, \"//input[@class='r-30o5oe r-1niwhzg r-17gur6a r-1yadl64 r-deolkf r-homxoj r-poiln3 r-7cikom r-1ny4l3l r-t60dpp r-1dz5y72 r-fdjqy7 r-13qz1uu']\")\n"
   ]
  },
  {
   "cell_type": "code",
   "execution_count": 12,
   "id": "43591d42",
   "metadata": {},
   "outputs": [],
   "source": [
    "time.sleep(5)\n",
    "username.send_keys(\"username\")"
   ]
  },
  {
   "cell_type": "code",
   "execution_count": 13,
   "id": "fce0c36b",
   "metadata": {},
   "outputs": [
    {
     "name": "stdout",
     "output_type": "stream",
     "text": [
      "<selenium.webdriver.remote.webelement.WebElement (session=\"6f7f43c8261abcd2d5567c4d62835908\", element=\"E937482B385597BB3FF3D68AF974B7CB_element_119\")>\n"
     ]
    }
   ],
   "source": [
    "#Next Button\n",
    "time.sleep(5)\n",
    "loginNextAfterUsername = driver.find_element(By.XPATH, \"//div[@class='css-18t94o4 css-1dbjc4n r-sdzlij r-1phboty r-rs99b7 r-ywje51 r-usiww2 r-2yi16 r-1qi8awa r-1ny4l3l r-ymttw5 r-o7ynqc r-6416eg r-lrvibr r-13qz1uu']\")\n",
    "print(loginNextAfterUsername)"
   ]
  },
  {
   "cell_type": "code",
   "execution_count": 14,
   "id": "e6522666",
   "metadata": {},
   "outputs": [],
   "source": [
    "loginNextAfterUsername.click()"
   ]
  },
  {
   "cell_type": "code",
   "execution_count": 15,
   "id": "93504d58",
   "metadata": {},
   "outputs": [
    {
     "name": "stdout",
     "output_type": "stream",
     "text": [
      "<selenium.webdriver.remote.webelement.WebElement (session=\"6f7f43c8261abcd2d5567c4d62835908\", element=\"E937482B385597BB3FF3D68AF974B7CB_element_142\")>\n"
     ]
    }
   ],
   "source": [
    "#Input Password\n",
    "time.sleep(5)\n",
    "password=driver.find_element(By.XPATH, \"//input[@name='password']\")\n",
    "print(password)\n"
   ]
  },
  {
   "cell_type": "code",
   "execution_count": 16,
   "id": "1353e512",
   "metadata": {},
   "outputs": [
    {
     "name": "stdout",
     "output_type": "stream",
     "text": [
      "<selenium.webdriver.remote.webelement.WebElement (session=\"6f7f43c8261abcd2d5567c4d62835908\", element=\"E937482B385597BB3FF3D68AF974B7CB_element_174\")>\n"
     ]
    }
   ],
   "source": [
    "#Login Button\n",
    "\n",
    "loginButton = driver.find_element(By.XPATH, \"//div[@class='css-1dbjc4n r-sdzlij r-1phboty r-rs99b7 r-19yznuf r-64el8z r-icoktb r-1ny4l3l r-1dye5f7 r-o7ynqc r-6416eg r-lrvibr']\")\n",
    "print(loginButton)"
   ]
  },
  {
   "cell_type": "code",
   "execution_count": 17,
   "id": "b46b1521",
   "metadata": {},
   "outputs": [],
   "source": [
    "#Insert Password and click login button\n",
    "password.send_keys(\"password\")\n",
    "time.sleep(5)\n",
    "loginButton.click()"
   ]
  },
  {
   "cell_type": "markdown",
   "id": "723eb9d1",
   "metadata": {},
   "source": [
    "## Scrape the data from twitter post\n",
    "\n",
    "After successfully login here is a few things that we are going to do:\n",
    "1. Go to the post\n",
    "2. Create scroll script so we can gather more data\n",
    "3. Locate the element class, name, or id, for each tweet/post so we can scrape them easily\n",
    "4. Locate the element of the reply.\n",
    "5. Locate the element for retweets.\n",
    "6. Locate the elemetn for likes.\n"
   ]
  },
  {
   "cell_type": "code",
   "execution_count": 18,
   "id": "c68902eb",
   "metadata": {},
   "outputs": [],
   "source": [
    "#Go to the post\n",
    "time.sleep(5)\n",
    "driver.get(LINK_POST)"
   ]
  },
  {
   "cell_type": "code",
   "execution_count": 33,
   "id": "d046fed9",
   "metadata": {},
   "outputs": [
    {
     "name": "stdout",
     "output_type": "stream",
     "text": [
      "<selenium.webdriver.remote.webelement.WebElement (session=\"6f7f43c8261abcd2d5567c4d62835908\", element=\"A85CA919F89E4F01AABBF226190F6DD5_element_294\")>\n"
     ]
    }
   ],
   "source": [
    "# Post section scrollable\n",
    "time.sleep(5)\n",
    "comment_section = driver.find_element(By.XPATH, \"//body\")\n",
    "print(comment_section)"
   ]
  },
  {
   "cell_type": "code",
   "execution_count": 42,
   "id": "d8b4b851",
   "metadata": {},
   "outputs": [
    {
     "name": "stdout",
     "output_type": "stream",
     "text": [
      "[]\n"
     ]
    }
   ],
   "source": [
    "time.sleep(5)\n",
    "showmore = driver.find_elements(By.XPATH, \"//div[@class='css-18t94o4 css-1dbjc4n r-1777fci r-1pl7oy7 r-1ny4l3l r-o7ynqc r-6416eg r-13qz1uu']\")\n",
    "print(showmore)"
   ]
  },
  {
   "cell_type": "code",
   "execution_count": 39,
   "id": "64fab7fb",
   "metadata": {},
   "outputs": [],
   "source": [
    "time.sleep(1)\n",
    "showmore.click()"
   ]
  },
  {
   "cell_type": "code",
   "execution_count": 44,
   "id": "24462f3e",
   "metadata": {},
   "outputs": [
    {
     "name": "stdout",
     "output_type": "stream",
     "text": [
      "0\n",
      "1\n",
      "2\n",
      "3\n",
      "4\n",
      "5\n",
      "6\n",
      "7\n",
      "8\n",
      "9\n",
      "10\n",
      "11\n",
      "12\n",
      "13\n",
      "14\n",
      "15\n",
      "16\n",
      "17\n",
      "18\n",
      "19\n",
      "20\n",
      "21\n",
      "22\n",
      "23\n",
      "24\n",
      "25\n",
      "26\n",
      "27\n",
      "28\n",
      "29\n"
     ]
    }
   ],
   "source": [
    "#Post Scroll Script \n",
    "time.sleep(5)\n",
    "\n",
    "for i in range(0, 30):\n",
    "    comment_section.send_keys(Keys.CONTROL + Keys.END)\n",
    "    \n",
    "    #show more reply / \"hidden\" reply\n",
    "    if(len(driver.find_elements(By.XPATH, \"//div[@class='css-18t94o4 css-1dbjc4n r-1777fci r-1pl7oy7 r-1ny4l3l r-o7ynqc r-6416eg r-13qz1uu']\")) > 0):\n",
    "        time.sleep(3)\n",
    "        driver.find_element(By.XPATH, \"//div[@class='css-18t94o4 css-1dbjc4n r-1777fci r-1pl7oy7 r-1ny4l3l r-o7ynqc r-6416eg r-13qz1uu']\").click()\n",
    "    print(i)\n",
    "    time.sleep(3)\n",
    "#elem = driver.find_element(By.TAG_NAME, \"html\")\n",
    "#time.sleep(5)\n",
    "#comment_section.send_keys(Keys.END)\n",
    "#actions = ActionChains(driver)\n",
    "#actions.move_to_element(element).perform()"
   ]
  },
  {
   "cell_type": "code",
   "execution_count": 19,
   "id": "399b1883",
   "metadata": {},
   "outputs": [],
   "source": [
    "#reply with reply\n",
    "time.sleep(5)\n",
    "replyWreply = driver.find_elements(By.XPATH, \"//article[@class='css-1dbjc4n r-1loqt21 r-18u37iz r-1ut4w64 r-1ny4l3l r-1udh08x r-1qhn6m8 r-i023vh r-o7ynqc r-6416eg']\")"
   ]
  },
  {
   "cell_type": "code",
   "execution_count": 20,
   "id": "07efa4e5",
   "metadata": {},
   "outputs": [
    {
     "name": "stdout",
     "output_type": "stream",
     "text": [
      "Trash\n",
      "@IamTrashIknow\n",
      "·\n",
      "Jul 23\n",
      "This literally so bad you couldn't pay me to have it\n",
      "3\n",
      "78\n",
      "7,018\n",
      "TSM Raven\n",
      "@raven_apex\n",
      "·\n",
      "Jul 23\n",
      "Please buff her\n",
      "5\n",
      "113\n",
      "8,506\n",
      "Vozskii\n",
      "@Vozskii\n",
      "·\n",
      "Jul 23\n",
      "what are you cooking…..\n",
      "2\n",
      "10\n",
      "1,984\n",
      "cookie\n",
      "@non3ofyourbuss0\n",
      "·\n",
      "Jul 23\n",
      "@RoastHimJim\n",
      "2\n",
      "2,346\n"
     ]
    }
   ],
   "source": [
    "for i in range(0, len(replyWreply)):\n",
    "    print(replyWreply[i].text)\n",
    "    "
   ]
  },
  {
   "cell_type": "code",
   "execution_count": 21,
   "id": "c788e20e",
   "metadata": {},
   "outputs": [
    {
     "name": "stdout",
     "output_type": "stream",
     "text": [
      "4\n"
     ]
    }
   ],
   "source": [
    "print(len(replyWreply))"
   ]
  },
  {
   "cell_type": "code",
   "execution_count": 22,
   "id": "d8e59a9c",
   "metadata": {},
   "outputs": [],
   "source": [
    "#reply with reply\n",
    "time.sleep(5)\n",
    "replyWOreply = driver.find_elements(By.XPATH, \"//article[@class='css-1dbjc4n r-1loqt21 r-18u37iz r-1ny4l3l r-1udh08x r-1qhn6m8 r-i023vh r-o7ynqc r-6416eg']\")"
   ]
  },
  {
   "cell_type": "code",
   "execution_count": 23,
   "id": "03c68ed2",
   "metadata": {},
   "outputs": [
    {
     "name": "stdout",
     "output_type": "stream",
     "text": [
      "KralRindo\n",
      "@kralrindo\n",
      "·\n",
      "Jul 23\n",
      "who's recording that area\n",
      "2\n",
      "5\n",
      "185\n",
      "23.2K\n",
      "LG | KarimCheese\n",
      "@KarimCheese\n",
      "·\n",
      "Jul 23\n",
      "That transmission is a little funky.. \n",
      "1\n",
      "2\n",
      "3,008\n",
      "BANGER CAM\n",
      "@baguettelander\n",
      "·\n",
      "Jul 23\n",
      "WOOHOO MY GIRLIEEEE <<33\n",
      "1\n",
      "31\n",
      "2,975\n",
      "Will\n",
      "@William23R\n",
      "·\n",
      "Jul 23\n",
      "She needs better skins, she's starting to get the bangalore treatment.\n",
      "1\n",
      "27\n",
      "2,556\n",
      "ripRyan\n",
      "@RaiynGG\n",
      "·\n",
      "Jul 23\n",
      "i see no difference\n",
      "4\n",
      "6\n",
      "2,468\n",
      "✧˚·.Astra's Comet\n",
      "@HaddieKaur_\n",
      "·\n",
      "Jul 23\n",
      "PLEEK give my girl vantage better skins cus all the recent ones have been so questionable it's like you put her in the game to just forget her \n",
      "2\n",
      "4\n",
      "715\n",
      "Blood | Collin\n",
      "@BloodVariety\n",
      "·\n",
      "Jul 23\n",
      "With all the money you guys make on events, maybe pay a better designer\n",
      "2\n",
      "10\n",
      "985\n",
      "Jim Is Here To Take Care of Him\n",
      "@RoastHimJim\n",
      "·\n",
      "Jul 23\n",
      "Automated\n",
      "3\n",
      "2,061\n",
      "LTR\n",
      "@Lucas_Haruaka\n",
      "·\n",
      "Jul 23\n",
      "Am I the only one who Forgot Vantage existed?\n",
      "2\n",
      "11\n",
      "1,734\n",
      "McMike\n",
      "@SDCore_\n",
      "·\n",
      "Jul 23\n",
      "Is this a music pack?!?! HELLO?!?! ITS SO GOOD?!?!?!\n",
      "2\n",
      "3\n",
      "1,083\n",
      "Tyson Brady\n",
      "@TysonBrady\n",
      "·\n",
      "Jul 23\n",
      "WHAT IS\n",
      "3\n",
      "1,391\n",
      "Hot Burger Summer\n",
      "@HamburgerJack\n",
      "·\n",
      "Jul 23\n",
      "It really all just is money events...\n",
      "1\n",
      "1\n",
      "267\n",
      "Aaron Cool\n",
      "@Luckerzzz\n",
      "·\n",
      "Jul 23\n",
      "How about some actual content and not 47 billion skins a week\n",
      "5\n",
      "12\n",
      "1,572\n",
      "WellHmz\n",
      "@HamzaAce3\n",
      "·\n",
      "Jul 23\n",
      "If all shooter games can run at 120fps on next-gen consoles why apex legends can't !?\n",
      "We need an answer \n",
      "@respawn\n",
      " @PlayApex\n",
      "1\n",
      "3\n",
      "455\n",
      "eatsmoke\n",
      "@eatsmokes\n",
      "·\n",
      "Jul 23\n",
      "Please bring back the Lifeline and Pathfinder music packs.\n",
      "\n",
      "They haven’t been available since the Iron Crown event in season 1 and were only available at random chance through packs. I’m happy to pay for them individually, they’re the only music packs I’m missing.\n",
      "2\n",
      "480\n",
      "ARareRampartMainAppeared\n",
      "@ARampartMain\n",
      "·\n",
      "Jul 25\n",
      "Fix matchmaking already\n",
      "6\n",
      "7\n",
      "46\n"
     ]
    }
   ],
   "source": [
    "for i in range(0, len(replyWOreply)):\n",
    "    print(replyWOreply[i].text)\n",
    "    "
   ]
  },
  {
   "cell_type": "code",
   "execution_count": 24,
   "id": "f69fa418",
   "metadata": {},
   "outputs": [
    {
     "name": "stdout",
     "output_type": "stream",
     "text": [
      "16\n"
     ]
    }
   ],
   "source": [
    "print(len(replyWOreply))"
   ]
  },
  {
   "cell_type": "code",
   "execution_count": null,
   "id": "07db72c3",
   "metadata": {},
   "outputs": [],
   "source": [
    "time.sleep(5)"
   ]
  },
  {
   "cell_type": "code",
   "execution_count": null,
   "id": "b59210c8",
   "metadata": {},
   "outputs": [],
   "source": [
    "time.sleep(5)"
   ]
  },
  {
   "cell_type": "code",
   "execution_count": null,
   "id": "ba3bbb20",
   "metadata": {},
   "outputs": [],
   "source": []
  },
  {
   "cell_type": "code",
   "execution_count": null,
   "id": "97e671d1",
   "metadata": {},
   "outputs": [],
   "source": []
  },
  {
   "cell_type": "code",
   "execution_count": null,
   "id": "8a5829eb",
   "metadata": {},
   "outputs": [],
   "source": []
  },
  {
   "cell_type": "code",
   "execution_count": null,
   "id": "83fb8b14",
   "metadata": {},
   "outputs": [],
   "source": []
  },
  {
   "cell_type": "code",
   "execution_count": null,
   "id": "b99feed3",
   "metadata": {},
   "outputs": [],
   "source": []
  }
 ],
 "metadata": {
  "kernelspec": {
   "display_name": "Python 3 (ipykernel)",
   "language": "python",
   "name": "python3"
  },
  "language_info": {
   "codemirror_mode": {
    "name": "ipython",
    "version": 3
   },
   "file_extension": ".py",
   "mimetype": "text/x-python",
   "name": "python",
   "nbconvert_exporter": "python",
   "pygments_lexer": "ipython3",
   "version": "3.10.0"
  }
 },
 "nbformat": 4,
 "nbformat_minor": 5
}
